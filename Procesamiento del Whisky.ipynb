{
 "cells": [
  {
   "cell_type": "markdown",
   "metadata": {},
   "source": [
    "# Proyecto: Autómata para el procesamiento de la elaboración del Whisky\n",
    "\n",
    "\n",
    "**Autómatas y Lenguajes Formales**\n",
    "\n",
    "**Integrantes: Julián David León Quintero y Kevin H Morales Correa**\n",
    "\n",
    "**Profesor: Gustavo Garzón**\n",
    "\n",
    "**Escuela de Ingeniería de Sistemas e Informática**\n",
    "\n",
    "_Octubre de 2021_"
   ]
  },
  {
   "cell_type": "markdown",
   "metadata": {},
   "source": [
    "** Definición formal del autómata **\n",
    "\n",
    "** Sea W el autómata definido **\n",
    "\n"
   ]
  },
  {
   "cell_type": "markdown",
   "metadata": {},
   "source": [
    "W = ( Q , $\\Sigma$ , $\\gamma$ , q0 , F)"
   ]
  },
  {
   "cell_type": "markdown",
   "metadata": {},
   "source": [
    "** Conjunto de estados **"
   ]
  },
  {
   "cell_type": "markdown",
   "metadata": {},
   "source": [
    "Q = {q0 , q1 , q2 , q3 , q4 , q5 , q6 , q7 , q8 , q9 , q10 , q11 , q12 , q13 , q14 , q15 , q16 , q17 , q18 , q19 , q20 , q21 , q22}"
   ]
  },
  {
   "cell_type": "markdown",
   "metadata": {},
   "source": [
    "**Alfabeto del autómata**"
   ]
  },
  {
   "cell_type": "markdown",
   "metadata": {},
   "source": [
    "$\\Sigma$ = {0 , 1 , 2 , 3}"
   ]
  },
  {
   "cell_type": "markdown",
   "metadata": {},
   "source": [
    "**Estados Finales**"
   ]
  },
  {
   "cell_type": "markdown",
   "metadata": {},
   "source": [
    "F = {q0 , q1 , q2 , q3 , q4 , q5 , q6 , q7 , q8 , q9 , q10 , q11 , q12 , q13 , q14 , q15 , q16 , q17 , q18 , q19 , q20 , q21 , q22}"
   ]
  },
  {
   "cell_type": "markdown",
   "metadata": {},
   "source": [
    "**Transiciones**"
   ]
  },
  {
   "cell_type": "markdown",
   "metadata": {},
   "source": [
    "$\\gamma$(q0,0) = q1\n",
    "\n",
    "$\\gamma$(q0,1) = q2\n",
    "\n",
    "$\\gamma$(q1,2) = q0\n",
    "\n",
    "$\\gamma$(q1,3) = q0\n",
    "\n",
    "$\\gamma$(q2,0) = q3\n",
    "\n",
    "$\\gamma$(q2,1) = q4\n",
    "\n",
    "$\\gamma$(q3,3) = q2\n",
    "\n",
    "$\\gamma$(q4,0) = q5\n",
    "\n",
    "$\\gamma$(q4,1) = q6\n",
    "\n",
    "$\\gamma$(q5,3) = q4\n",
    "\n",
    "$\\gamma$(q6,0) = q7\n",
    "\n",
    "$\\gamma$(q6,1) = q8\n",
    "\n",
    "$\\gamma$(q7,2) = q0\n",
    "\n",
    "$\\gamma$(q7,3) = q6\n",
    "\n",
    "$\\gamma$(q8,0) = q9\n",
    "\n",
    "$\\gamma$(q8,1) = q10\n",
    "\n",
    "$\\gamma$(q9,2) = q0\n",
    "\n",
    "$\\gamma$(q9,3) = q8\n",
    "\n",
    "$\\gamma$(q10,0) = q11\n",
    "\n",
    "$\\gamma$(q10,1) = q12\n",
    "\n",
    "$\\gamma$(q11,2) = q0\n",
    "\n",
    "$\\gamma$(q11,3) = q10\n",
    "\n",
    "$\\gamma$(q12,0) = q13\n",
    "\n",
    "$\\gamma$(q12,1) = q14\n",
    "\n",
    "$\\gamma$(q13,3) = q12\n",
    "\n",
    "$\\gamma$(q14,0) = q15\n",
    "\n",
    "$\\gamma$(q14,1) = q16\n",
    "\n",
    "$\\gamma$(q15,2) = q0\n",
    "\n",
    "$\\gamma$(q15,3) = q14\n",
    "\n",
    "$\\gamma$(q16,0) = q17\n",
    "\n",
    "$\\gamma$(q16,1) = q18\n",
    "\n",
    "$\\gamma$(q17,2) = q0\n",
    "\n",
    "$\\gamma$(q17,3) = q16\n",
    "\n",
    "$\\gamma$(q18,0) = q19\n",
    "\n",
    "$\\gamma$(q18,1) = q20\n",
    "\n",
    "$\\gamma$(q19,2) = q0\n",
    "\n",
    "$\\gamma$(q19,3) = q18\n",
    "\n",
    "$\\gamma$(q20,0) = q21\n",
    "\n",
    "$\\gamma$(q20,1) = q22\n",
    "\n",
    "$\\gamma$(q21,2) = q0\n",
    "\n",
    "$\\gamma$(q21,3) = q20\n"
   ]
  },
  {
   "cell_type": "markdown",
   "metadata": {},
   "source": [
    "**Diagrama de estados**"
   ]
  },
  {
   "cell_type": "markdown",
   "metadata": {},
   "source": [
    "<img src=\"files/proyecto.jpg\" />"
   ]
  },
  {
   "cell_type": "code",
   "execution_count": 6,
   "metadata": {
    "collapsed": true
   },
   "outputs": [],
   "source": [
    "from automatalib.fa.dfa import DFA  \n",
    "dfa1 = DFA(\n",
    "    states={'q0', 'q1', 'q2', 'q3', 'q4','q5', 'q6', 'q7', 'q8', 'q9','q10', 'q11', 'q12', 'q13', 'q14','q15', 'q16', 'q17', \n",
    "            'q18', 'q19','q20', 'q21', 'q22'},\n",
    "    input_symbols={'0', '1','2','3'},\n",
    "    transitions={\n",
    "        'q0': {'0': 'q1', '1': 'q2'},\n",
    "        'q1': {'2': 'q0', '3': 'q0'},\n",
    "        'q2': {'0': 'q3', '1': 'q4'},\n",
    "        'q3': {'3': 'q2'},\n",
    "        'q4': {'0': 'q5', '1': 'q6'},\n",
    "        'q5': {'3': 'q4'},\n",
    "        'q6': {'0': 'q7', '1': 'q8'},\n",
    "        'q7': {'2': 'q0', '3': 'q6'},\n",
    "        'q8': {'0': 'q9', '1': 'q10'},\n",
    "        'q9': {'2': 'q0', '3': 'q8'},\n",
    "        'q10': {'0': 'q11', '1': 'q12'},\n",
    "        'q11': {'2': 'q0', '3': 'q10'},\n",
    "        'q12': {'0': 'q13', '1': 'q14'},\n",
    "        'q13': {'3': 'q12'},\n",
    "        'q14': {'0': 'q15', '1': 'q16'},\n",
    "        'q15': {'2': 'q0', '3': 'q14'},\n",
    "        'q16': {'0': 'q17', '1': 'q18'},\n",
    "        'q17': {'2': 'q0', '3': 'q16'},\n",
    "        'q18': {'0': 'q19', '1': 'q20'},\n",
    "        'q19': {'2': 'q0', '3': 'q18'},\n",
    "        'q20': {'0': 'q21', '1': 'q22'},\n",
    "        'q21': {'2': 'q0', '3': 'q20'},\n",
    "        'q22': {},\n",
    "\n",
    "    },\n",
    "    initial_state='q0',\n",
    "    final_states={'q0', 'q1', 'q2', 'q3', 'q4','q5', 'q6', 'q7', 'q8', 'q9','q10', 'q11', 'q12', 'q13', 'q14','q15', 'q16', 'q17', \n",
    "            'q18', 'q19','q20', 'q21', 'q22'}\n",
    "    )"
   ]
  },
  {
   "cell_type": "code",
   "execution_count": 8,
   "metadata": {
    "collapsed": false
   },
   "outputs": [
    {
     "name": "stdout",
     "output_type": "stream",
     "text": [
      "Introduce la palabra:111110\n",
      "El proceso falló en Cocción a presión de vapor.\n",
      "q11\n"
     ]
    }
   ],
   "source": [
    "val = input(\"Introduce la palabra:\")\n",
    "if((dfa1.validate_input(val))==\"q0\"):\n",
    "    print('El proceso se encuentra en Almacenado en silos.')\n",
    "if((dfa1.validate_input(val))==\"q1\"):\n",
    "    print('El proceso falló en Almacenado en silos.')\n",
    "if((dfa1.validate_input(val))==\"q2\"):\n",
    "    print('El proceso se encuentra en Separación de las impurezas del maíz.')\n",
    "if((dfa1.validate_input(val))==\"q3\"):\n",
    "    print('El proceso falló en Separación de las impurezas del maíz.')\n",
    "if((dfa1.validate_input(val))==\"q4\"):\n",
    "    print('El proceso se encuentra en Realización de la molienda del grano.')\n",
    "if((dfa1.validate_input(val))==\"q5\"):\n",
    "    print('El proceso falló en Realización de la molienda del grano.')\n",
    "if((dfa1.validate_input(val))==\"q6\"):\n",
    "    print('El proceso se encuentra en Malteado del maíz.')\n",
    "if((dfa1.validate_input(val))==\"q7\"):\n",
    "    print('El proceso falló en Malteado del maíz.')\n",
    "if((dfa1.validate_input(val))==\"q8\"):\n",
    "    print('El proceso se encuentra en Secado de la malta.')\n",
    "if((dfa1.validate_input(val))==\"q9\"):\n",
    "    print('El proceso falló en Secado de la malta.')\n",
    "if((dfa1.validate_input(val))==\"q10\"):\n",
    "    print('El proceso se encuentra en Cocción a presión de vapor.')\n",
    "if((dfa1.validate_input(val))==\"q11\"):\n",
    "    print('El proceso falló en Cocción a presión de vapor.')\n",
    "if((dfa1.validate_input(val))==\"q12\"):\n",
    "    print('El proceso se encuentra en Disminución de la temperatura.')\n",
    "if((dfa1.validate_input(val))==\"q13\"):\n",
    "    print('El proceso falló en Disminución de la temperatura.')\n",
    "if((dfa1.validate_input(val))==\"q14\"):\n",
    "    print('El proceso se encuentra en Proceso de fermentado.')\n",
    "if((dfa1.validate_input(val))==\"q15\"):\n",
    "    print('El proceso falló en Proceso de fermentado.')\n",
    "if((dfa1.validate_input(val))==\"q16\"):\n",
    "    print('El proceso se encuentra en Proceso de destilado.')\n",
    "if((dfa1.validate_input(val))==\"q17\"):\n",
    "    print('El proceso falló en Proceso de destilado.')\n",
    "if((dfa1.validate_input(val))==\"q18\"):\n",
    "    print('El proceso se encuentra en Enfriamiento de producto final.')\n",
    "if((dfa1.validate_input(val))==\"q19\"):\n",
    "    print('El proceso falló en Enfriamiento de producto final.')\n",
    "if((dfa1.validate_input(val))==\"q20\"):\n",
    "    print('El proceso se encuentra en Proceso de añejamiento.')\n",
    "if((dfa1.validate_input(val))==\"q21\"):\n",
    "    print('El proceso falló en Proceso de añejamiento.')\n",
    "if((dfa1.validate_input(val))==\"q22\"):\n",
    "    print('El whisky es apto para el consumo.')\n",
    "\n",
    "print(dfa1.validate_input(val))"
   ]
  },
  {
   "cell_type": "code",
   "execution_count": null,
   "metadata": {
    "collapsed": true
   },
   "outputs": [],
   "source": [
    "!chmod 777 empaquetar.sh run utils/*"
   ]
  },
  {
   "cell_type": "code",
   "execution_count": null,
   "metadata": {
    "collapsed": true
   },
   "outputs": [],
   "source": [
    "chmod: cannot access ‘enviar’: No such file or directory\n",
    "chmod: cannot access ‘otro’: No such file or directory"
   ]
  },
  {
   "cell_type": "code",
   "execution_count": null,
   "metadata": {
    "collapsed": true
   },
   "outputs": [],
   "source": [
    " codigo=0000000"
   ]
  },
  {
   "cell_type": "code",
   "execution_count": null,
   "metadata": {
    "collapsed": true
   },
   "outputs": [],
   "source": [
    "!./empaquetar.sh $codigo"
   ]
  }
 ],
 "metadata": {
  "kernelspec": {
   "display_name": "Python 3",
   "language": "python",
   "name": "python3"
  },
  "language_info": {
   "codemirror_mode": {
    "name": "ipython",
    "version": 3
   },
   "file_extension": ".py",
   "mimetype": "text/x-python",
   "name": "python",
   "nbconvert_exporter": "python",
   "pygments_lexer": "ipython3",
   "version": "3.6.2"
  }
 },
 "nbformat": 4,
 "nbformat_minor": 0
}
